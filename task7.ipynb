{
 "cells": [
  {
   "cell_type": "code",
   "execution_count": 1,
   "id": "1ada9d4f-fa53-4200-97e3-c019fbe38504",
   "metadata": {},
   "outputs": [
    {
     "name": "stdout",
     "output_type": "stream",
     "text": [
      "6\n"
     ]
    }
   ],
   "source": [
    "def merge_and_count(arr, temp_arr, left, right):\n",
    "    if left >= right:\n",
    "        return 0\n",
    "\n",
    "    mid = (left + right) // 2\n",
    "    inv_count = (merge_and_count(arr, temp_arr, left, mid) +\n",
    "                 merge_and_count(arr, temp_arr, mid + 1, right) +\n",
    "                 merge_and_merge_inversions(arr, temp_arr, left, mid, right))\n",
    "    return inv_count\n",
    "\n",
    "def merge_and_merge_inversions(arr, temp_arr, left, mid, right):\n",
    "    i, j, k = left, mid + 1, left\n",
    "    inv_count = 0\n",
    "\n",
    "    while i <= mid and j <= right:\n",
    "        if arr[i] <= arr[j]:\n",
    "            temp_arr[k] = arr[i]\n",
    "            i += 1\n",
    "        else:\n",
    "            temp_arr[k] = arr[j]\n",
    "            inv_count += (mid - i + 1)\n",
    "            j += 1\n",
    "        k += 1\n",
    "\n",
    "    while i <= mid:\n",
    "        temp_arr[k] = arr[i]\n",
    "        i += 1\n",
    "        k += 1\n",
    "\n",
    "    while j <= right:\n",
    "        temp_arr[k] = arr[j]\n",
    "        j += 1\n",
    "        k += 1\n",
    "\n",
    "    arr[left:right + 1] = temp_arr[left:right + 1]\n",
    "    return inv_count\n",
    "\n",
    "def count_inversions(arr):\n",
    "    temp_arr = [0] * len(arr)\n",
    "    return merge_and_count(arr, temp_arr, 0, len(arr) - 1)\n",
    "\n",
    "# Example:\n",
    "print(count_inversions([8, 4, 2, 1]))  # Output: 6\n"
   ]
  },
  {
   "cell_type": "code",
   "execution_count": 3,
   "id": "8f71830d-cd78-4956-a216-27cac93edc75",
   "metadata": {},
   "outputs": [
    {
     "name": "stdout",
     "output_type": "stream",
     "text": [
      "bab\n"
     ]
    }
   ],
   "source": [
    "def longest_palindromic_substring(s):\n",
    "    if not s:\n",
    "        return \"\"\n",
    "    start, max_length = 0, 0\n",
    "    for i in range(len(s)):\n",
    "        length1 = expand_around_center(s, i, i)\n",
    "        length2 = expand_around_center(s, i, i + 1)\n",
    "        length = max(length1, length2)\n",
    "        if length > max_length:\n",
    "            max_length = length\n",
    "            start = i - (length - 1) // 2\n",
    "    return s[start:start + max_length]\n",
    "\n",
    "def expand_around_center(s, left, right):\n",
    "    while left >= 0 and right < len(s) and s[left] == s[right]:\n",
    "        left -= 1\n",
    "        right += 1\n",
    "    return right - left - 1\n",
    "\n",
    "# Example:\n",
    "print(longest_palindromic_substring(\"babad\"))  # Output: \"bab\" or \"aba\"\n"
   ]
  },
  {
   "cell_type": "code",
   "execution_count": 5,
   "id": "7975ffa3-ba4a-4cd9-ae00-b8c310800027",
   "metadata": {},
   "outputs": [
    {
     "name": "stdout",
     "output_type": "stream",
     "text": [
      "((0, 1, 3, 2), 80)\n"
     ]
    }
   ],
   "source": [
    "import itertools\n",
    "\n",
    "def calculate_distance(path, distances):\n",
    "    distance = 0\n",
    "    for i in range(len(path) - 1):\n",
    "        distance += distances[path[i]][path[i + 1]]\n",
    "    distance += distances[path[-1]][path[0]]  # Return to start\n",
    "    return distance\n",
    "\n",
    "def tsp_brute_force(distances):\n",
    "    cities = list(range(len(distances)))\n",
    "    min_distance = float('inf')\n",
    "    best_path = None\n",
    "    for path in itertools.permutations(cities):\n",
    "        distance = calculate_distance(path, distances)\n",
    "        if distance < min_distance:\n",
    "            min_distance = distance\n",
    "            best_path = path\n",
    "    return best_path, min_distance\n",
    "\n",
    "# Example:\n",
    "distances = [\n",
    "    [0, 10, 15, 20],\n",
    "    [10, 0, 35, 25],\n",
    "    [15, 35, 0, 30],\n",
    "    [20, 25, 30, 0]\n",
    "]\n",
    "print(tsp_brute_force(distances))  # Output: (path, distance)\n"
   ]
  },
  {
   "cell_type": "code",
   "execution_count": 7,
   "id": "bb75f72a-80ce-41f8-8473-468ded0a0c76",
   "metadata": {},
   "outputs": [
    {
     "name": "stdout",
     "output_type": "stream",
     "text": [
      "True\n"
     ]
    }
   ],
   "source": [
    "def has_cycle(graph):\n",
    "    visited = set()\n",
    "\n",
    "    def dfs(node, parent):\n",
    "        visited.add(node)\n",
    "        for neighbor in graph[node]:\n",
    "            if neighbor not in visited:\n",
    "                if dfs(neighbor, node):\n",
    "                    return True\n",
    "            elif neighbor != parent:\n",
    "                return True\n",
    "        return False\n",
    "\n",
    "    for node in graph:\n",
    "        if node not in visited:\n",
    "            if dfs(node, -1):\n",
    "                return True\n",
    "    return False\n",
    "\n",
    "# Example:\n",
    "graph = {\n",
    "    0: [1, 2],\n",
    "    1: [0, 2],\n",
    "    2: [0, 1]\n",
    "}\n",
    "print(has_cycle(graph))  # Output: True\n"
   ]
  },
  {
   "cell_type": "code",
   "execution_count": 9,
   "id": "f3796ffb-750c-429d-a598-ba83d4439e08",
   "metadata": {},
   "outputs": [
    {
     "name": "stdout",
     "output_type": "stream",
     "text": [
      "3\n"
     ]
    }
   ],
   "source": [
    "def longest_substring(s):\n",
    "    char_map = {}\n",
    "    start = max_length = 0\n",
    "    for end in range(len(s)):\n",
    "        if s[end] in char_map:\n",
    "            start = max(start, char_map[s[end]] + 1)\n",
    "        char_map[s[end]] = end\n",
    "        max_length = max(max_length, end - start + 1)\n",
    "    return max_length\n",
    "\n",
    "# Example:\n",
    "print(longest_substring(\"abcabcbb\"))  # Output: 3\n"
   ]
  },
  {
   "cell_type": "code",
   "execution_count": 11,
   "id": "d124b3d9-40f3-4605-ab59-6e187f24a66e",
   "metadata": {},
   "outputs": [
    {
     "name": "stdout",
     "output_type": "stream",
     "text": [
      "['((()))', '(()())', '(())()', '()(())', '()()()']\n"
     ]
    }
   ],
   "source": [
    "def generate_parentheses(n):\n",
    "    result = []\n",
    "\n",
    "    def backtrack(current, open_count, close_count):\n",
    "        if len(current) == 2 * n:\n",
    "            result.append(current)\n",
    "            return\n",
    "        if open_count < n:\n",
    "            backtrack(current + \"(\", open_count + 1, close_count)\n",
    "        if close_count < open_count:\n",
    "            backtrack(current + \")\", open_count, close_count + 1)\n",
    "\n",
    "    backtrack(\"\", 0, 0)\n",
    "    return result\n",
    "\n",
    "# Example:\n",
    "print(generate_parentheses(3))\n"
   ]
  },
  {
   "cell_type": "code",
   "execution_count": 13,
   "id": "3c775b71-a864-4eeb-ab4c-e9aee3aa8e10",
   "metadata": {},
   "outputs": [
    {
     "name": "stdout",
     "output_type": "stream",
     "text": [
      "[[1], [3, 2]]\n"
     ]
    }
   ],
   "source": [
    "from collections import deque\n",
    "\n",
    "class TreeNode:\n",
    "    def __init__(self, val=0, left=None, right=None):\n",
    "        self.val = val\n",
    "        self.left = left\n",
    "        self.right = right\n",
    "\n",
    "def zigzag_level_order(root):\n",
    "    if not root:\n",
    "        return []\n",
    "\n",
    "    result, level, left_to_right = [], deque([root]), True\n",
    "\n",
    "    while level:\n",
    "        level_size = len(level)\n",
    "        current_level = deque()\n",
    "\n",
    "        for _ in range(level_size):\n",
    "            node = level.popleft()\n",
    "            if left_to_right:\n",
    "                current_level.append(node.val)\n",
    "            else:\n",
    "                current_level.appendleft(node.val)\n",
    "            if node.left:\n",
    "                level.append(node.left)\n",
    "            if node.right:\n",
    "                level.append(node.right)\n",
    "\n",
    "        result.append(list(current_level))\n",
    "        left_to_right = not left_to_right\n",
    "\n",
    "    return result\n",
    "\n",
    "# Example:\n",
    "root = TreeNode(1, TreeNode(2), TreeNode(3))\n",
    "print(zigzag_level_order(root))  # Output: [[1], [3, 2]]\n"
   ]
  },
  {
   "cell_type": "code",
   "execution_count": 15,
   "id": "cf37a9ae-1d9c-492b-a4d0-0cda367c83f1",
   "metadata": {},
   "outputs": [
    {
     "name": "stdout",
     "output_type": "stream",
     "text": [
      "[['a', 'a', 'b'], ['aa', 'b']]\n"
     ]
    }
   ],
   "source": [
    "def partition_palindromes(s):\n",
    "    result = []\n",
    "\n",
    "    def is_palindrome(sub):\n",
    "        return sub == sub[::-1]\n",
    "\n",
    "    def backtrack(start, path):\n",
    "        if start == len(s):\n",
    "            result.append(path[:])\n",
    "            return\n",
    "        for end in range(start, len(s)):\n",
    "            if is_palindrome(s[start:end + 1]):\n",
    "                backtrack(end + 1, path + [s[start:end + 1]])\n",
    "\n",
    "    backtrack(0, [])\n",
    "    return result\n",
    "\n",
    "# Example:\n",
    "print(partition_palindromes(\"aab\"))  # Output: [[\"a\", \"a\", \"b\"], [\"aa\", \"b\"]]\n"
   ]
  },
  {
   "cell_type": "code",
   "execution_count": null,
   "id": "bc1bf44f-f3f8-48c1-b157-95fd4e1a6b26",
   "metadata": {},
   "outputs": [],
   "source": []
  }
 ],
 "metadata": {
  "kernelspec": {
   "display_name": "Python 3 (ipykernel)",
   "language": "python",
   "name": "python3"
  },
  "language_info": {
   "codemirror_mode": {
    "name": "ipython",
    "version": 3
   },
   "file_extension": ".py",
   "mimetype": "text/x-python",
   "name": "python",
   "nbconvert_exporter": "python",
   "pygments_lexer": "ipython3",
   "version": "3.12.4"
  }
 },
 "nbformat": 4,
 "nbformat_minor": 5
}
